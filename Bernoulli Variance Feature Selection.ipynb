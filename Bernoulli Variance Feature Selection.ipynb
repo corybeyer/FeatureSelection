{
 "cells": [
  {
   "cell_type": "markdown",
   "id": "66ccfcac",
   "metadata": {},
   "source": [
    "## Bernoulli Variance Feature Selection"
   ]
  },
  {
   "cell_type": "markdown",
   "id": "56d83996",
   "metadata": {},
   "source": [
    "A random variable follows the Bernoulli distribution when the variable which takes the value 1 with probability $p$ and the value 0 with probability $q = 1- p$. Less formally, it can be thought of as a model for the set of possible outcomes of any single experiment that asks a True/False or yes/no questions. \n",
    "\n",
    "$$ P(X=1) = p = 1-P(X=0) = 1-q$$\n",
    "\n",
    "Variance for the Bernoulli distribution is defined as; \n",
    "\n",
    "$$ Var(x) = p(1-q) = pq$$"
   ]
  },
  {
   "cell_type": "code",
   "execution_count": 1,
   "id": "12d0c9d5",
   "metadata": {},
   "outputs": [],
   "source": [
    "import pandas as pd\n",
    "import numpy as np\n",
    "from scipy.stats import bernoulli\n",
    "from sklearn.feature_selection import VarianceThreshold"
   ]
  },
  {
   "cell_type": "code",
   "execution_count": 2,
   "id": "1b033bb6",
   "metadata": {},
   "outputs": [],
   "source": [
    "# create bernoulli variables with varying variance\n",
    "v_1 = bernoulli.rvs(0.30, size=10, random_state = 101)\n",
    "v_2 = bernoulli.rvs(0.50, size=10, random_state = 101)\n",
    "v_3 = bernoulli.rvs(0.70, size=10, random_state = 101)\n",
    "v_4 = bernoulli.rvs(0.90, size=10, random_state = 101)"
   ]
  },
  {
   "cell_type": "code",
   "execution_count": 3,
   "id": "14b4cfb7",
   "metadata": {},
   "outputs": [],
   "source": [
    "# prepare the data for a dataframe\n",
    "matrix = np.vstack(np.array([v_1, v_2, v_3, v_4])).T"
   ]
  },
  {
   "cell_type": "code",
   "execution_count": 4,
   "id": "692d430c",
   "metadata": {
    "scrolled": true
   },
   "outputs": [
    {
     "data": {
      "text/html": [
       "<div>\n",
       "<style scoped>\n",
       "    .dataframe tbody tr th:only-of-type {\n",
       "        vertical-align: middle;\n",
       "    }\n",
       "\n",
       "    .dataframe tbody tr th {\n",
       "        vertical-align: top;\n",
       "    }\n",
       "\n",
       "    .dataframe thead th {\n",
       "        text-align: right;\n",
       "    }\n",
       "</style>\n",
       "<table border=\"1\" class=\"dataframe\">\n",
       "  <thead>\n",
       "    <tr style=\"text-align: right;\">\n",
       "      <th></th>\n",
       "      <th>Vector1</th>\n",
       "      <th>Vector2</th>\n",
       "      <th>Vector3</th>\n",
       "      <th>Vector4</th>\n",
       "    </tr>\n",
       "  </thead>\n",
       "  <tbody>\n",
       "    <tr>\n",
       "      <th>0</th>\n",
       "      <td>0</td>\n",
       "      <td>1</td>\n",
       "      <td>1</td>\n",
       "      <td>1</td>\n",
       "    </tr>\n",
       "    <tr>\n",
       "      <th>1</th>\n",
       "      <td>0</td>\n",
       "      <td>1</td>\n",
       "      <td>1</td>\n",
       "      <td>1</td>\n",
       "    </tr>\n",
       "    <tr>\n",
       "      <th>2</th>\n",
       "      <td>0</td>\n",
       "      <td>0</td>\n",
       "      <td>1</td>\n",
       "      <td>1</td>\n",
       "    </tr>\n",
       "    <tr>\n",
       "      <th>3</th>\n",
       "      <td>0</td>\n",
       "      <td>0</td>\n",
       "      <td>1</td>\n",
       "      <td>1</td>\n",
       "    </tr>\n",
       "    <tr>\n",
       "      <th>4</th>\n",
       "      <td>0</td>\n",
       "      <td>1</td>\n",
       "      <td>1</td>\n",
       "      <td>1</td>\n",
       "    </tr>\n",
       "    <tr>\n",
       "      <th>5</th>\n",
       "      <td>1</td>\n",
       "      <td>1</td>\n",
       "      <td>0</td>\n",
       "      <td>1</td>\n",
       "    </tr>\n",
       "    <tr>\n",
       "      <th>6</th>\n",
       "      <td>0</td>\n",
       "      <td>0</td>\n",
       "      <td>1</td>\n",
       "      <td>1</td>\n",
       "    </tr>\n",
       "    <tr>\n",
       "      <th>7</th>\n",
       "      <td>1</td>\n",
       "      <td>1</td>\n",
       "      <td>0</td>\n",
       "      <td>1</td>\n",
       "    </tr>\n",
       "    <tr>\n",
       "      <th>8</th>\n",
       "      <td>1</td>\n",
       "      <td>1</td>\n",
       "      <td>0</td>\n",
       "      <td>1</td>\n",
       "    </tr>\n",
       "    <tr>\n",
       "      <th>9</th>\n",
       "      <td>0</td>\n",
       "      <td>0</td>\n",
       "      <td>1</td>\n",
       "      <td>1</td>\n",
       "    </tr>\n",
       "  </tbody>\n",
       "</table>\n",
       "</div>"
      ],
      "text/plain": [
       "   Vector1  Vector2  Vector3  Vector4\n",
       "0        0        1        1        1\n",
       "1        0        1        1        1\n",
       "2        0        0        1        1\n",
       "3        0        0        1        1\n",
       "4        0        1        1        1\n",
       "5        1        1        0        1\n",
       "6        0        0        1        1\n",
       "7        1        1        0        1\n",
       "8        1        1        0        1\n",
       "9        0        0        1        1"
      ]
     },
     "execution_count": 4,
     "metadata": {},
     "output_type": "execute_result"
    }
   ],
   "source": [
    "# create dataframe\n",
    "df = pd.DataFrame(matrix, columns = ['Vector1', 'Vector2','Vector3','Vector4'])\n",
    "\n",
    "# evaluate the data\n",
    "df"
   ]
  },
  {
   "cell_type": "code",
   "execution_count": 5,
   "id": "05ef48cd",
   "metadata": {},
   "outputs": [
    {
     "data": {
      "text/plain": [
       "Vector1    0.233333\n",
       "Vector2    0.266667\n",
       "Vector3    0.233333\n",
       "Vector4    0.000000\n",
       "dtype: float64"
      ]
     },
     "execution_count": 5,
     "metadata": {},
     "output_type": "execute_result"
    }
   ],
   "source": [
    "# calculate the variance for each vector\n",
    "df.var()"
   ]
  },
  {
   "cell_type": "markdown",
   "id": "63630bc4",
   "metadata": {},
   "source": [
    "<b>Threshold:</b> Features with a training-set variance lower than this threshold will be removed. The default is to keep all features with non-zero variance, i.e. remove the features that have the same value in all samples."
   ]
  },
  {
   "cell_type": "code",
   "execution_count": 6,
   "id": "e19770a2",
   "metadata": {},
   "outputs": [
    {
     "name": "stdout",
     "output_type": "stream",
     "text": [
      "Threshold is 0.1875\n",
      "Support: [ True  True  True False]\n",
      "kept features: ['Vector1' 'Vector2' 'Vector3']\n"
     ]
    }
   ],
   "source": [
    "#calculate the desired threshold\n",
    "pq = (.75 * (1 - .75))\n",
    "\n",
    "print('Threshold is', pq)      \n",
    "      \n",
    "# run threshold by variance\n",
    "thresholder = VarianceThreshold(threshold= pq)\n",
    "\n",
    "# Fit the transformer\n",
    "thresholder.fit(df)\n",
    "\n",
    "# show the outcome\n",
    "print('Support:', thresholder.get_support())\n",
    "\n",
    "# get the vector names being kept in the model\n",
    "print('kept features:', thresholder.get_feature_names_out())"
   ]
  }
 ],
 "metadata": {
  "kernelspec": {
   "display_name": "Python 3 (ipykernel)",
   "language": "python",
   "name": "python3"
  },
  "language_info": {
   "codemirror_mode": {
    "name": "ipython",
    "version": 3
   },
   "file_extension": ".py",
   "mimetype": "text/x-python",
   "name": "python",
   "nbconvert_exporter": "python",
   "pygments_lexer": "ipython3",
   "version": "3.9.13"
  }
 },
 "nbformat": 4,
 "nbformat_minor": 5
}
