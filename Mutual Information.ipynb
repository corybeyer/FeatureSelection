{
 "cells": [
  {
   "cell_type": "markdown",
   "id": "57d058ba",
   "metadata": {},
   "source": [
    "## Mutual Information ##"
   ]
  },
  {
   "cell_type": "markdown",
   "id": "7988fe48",
   "metadata": {},
   "source": [
    "Pearson Correlation is a widely used measure to evaluate the association between two variables, primarily suitable for assessing linear relationships. However, when dealing with non-linear connections, Mutual Information becomes indispensable in capturing relationship details.\n",
    "\n",
    "Mutual Information serves to elucidate the interdependence between two variables by quantifying the dissimilarity between the joint distribution of the pair $(X, Y)$ and the product of their marginal distributions. This measure offers valuable insights into the strength and nature of associations, especially in cases where the relationship is nonlinear."
   ]
  },
  {
   "cell_type": "markdown",
   "id": "55306a9e",
   "metadata": {},
   "source": [
    "The descrete case;\n",
    "\n",
    "$$ I(X;Y) = \\sum_{y \\in_Y}\\sum_{x \\in_X}p(X,Y)(x,y) \\cdot log \\frac{p(X,Y)(x,y)}{pX(x)pY(y)}$$"
   ]
  },
  {
   "cell_type": "markdown",
   "id": "3d6c96f3",
   "metadata": {},
   "source": [
    "The continuous case;\n",
    "\n",
    "$$ I(X;Y) = \\int_Y \\int_X p(X,Y)(x,y) \\cdot log\\frac{p(X,Y)(x,y)}{pX(x)pY(y)}dxdy$$"
   ]
  },
  {
   "cell_type": "markdown",
   "id": "cbf8fb32",
   "metadata": {},
   "source": [
    "Consider the following example.\n",
    "\n",
    "|  |Speeding Violations in last year | No speeding Violation in the last year | Total |\n",
    "|--|--|--|--|\n",
    "|Cell phone users | 25| 280 | 305 |\n",
    "| Not a cell phone user | 45 | 405 |450 |\n",
    "| Total | 70 | 685 | 755 |"
   ]
  },
  {
   "cell_type": "code",
   "execution_count": 1,
   "id": "e8360800",
   "metadata": {},
   "outputs": [],
   "source": [
    "import numpy as np\n",
    "import pandas as pd"
   ]
  },
  {
   "cell_type": "code",
   "execution_count": 2,
   "id": "cd05f708",
   "metadata": {},
   "outputs": [],
   "source": [
    "# generate rows\n",
    "cell_phone_users = np.array([[25,280]])\n",
    "not_cell_phone_users = np.array([[45,405]])"
   ]
  },
  {
   "cell_type": "code",
   "execution_count": 3,
   "id": "0486562b",
   "metadata": {},
   "outputs": [],
   "source": [
    "# calculate total number of observations\n",
    "grand_total = np.sum(cell_phone_users) + np.sum(not_cell_phone_users)"
   ]
  },
  {
   "cell_type": "code",
   "execution_count": 4,
   "id": "3703629b",
   "metadata": {},
   "outputs": [],
   "source": [
    "# join arrays into a 2 x 2 table and divide values by grand total to get joint probabilities\n",
    "joint_probabilities = np.concatenate(\n",
    "    (cell_phone_users, not_cell_phone_users),\n",
    "    axis = 0 ) / grand_total"
   ]
  },
  {
   "cell_type": "code",
   "execution_count": 5,
   "id": "b21d3d94",
   "metadata": {},
   "outputs": [],
   "source": [
    "# make into pandas dataframe for improved reading\n",
    "contingencyTable = pd.DataFrame(joint_probabilities, \n",
    "                  columns = [\"Y = Speeding\", \"Y = Not Speeding\"], \n",
    "                  index = [\"X = Cell Phone\", \"X = Not Cell Phone\"])\n",
    "\n",
    "# take a sum along the rows\n",
    "contingencyTable['Row Total'] = contingencyTable.sum(axis = 1)\n",
    "\n",
    "# take the column sum\n",
    "contingencyTable.loc['Column Total'] = contingencyTable.sum()"
   ]
  },
  {
   "cell_type": "code",
   "execution_count": 6,
   "id": "5a8e93b8",
   "metadata": {},
   "outputs": [
    {
     "data": {
      "text/html": [
       "<div>\n",
       "<style scoped>\n",
       "    .dataframe tbody tr th:only-of-type {\n",
       "        vertical-align: middle;\n",
       "    }\n",
       "\n",
       "    .dataframe tbody tr th {\n",
       "        vertical-align: top;\n",
       "    }\n",
       "\n",
       "    .dataframe thead th {\n",
       "        text-align: right;\n",
       "    }\n",
       "</style>\n",
       "<table border=\"1\" class=\"dataframe\">\n",
       "  <thead>\n",
       "    <tr style=\"text-align: right;\">\n",
       "      <th></th>\n",
       "      <th>Y = Speeding</th>\n",
       "      <th>Y = Not Speeding</th>\n",
       "      <th>Row Total</th>\n",
       "    </tr>\n",
       "  </thead>\n",
       "  <tbody>\n",
       "    <tr>\n",
       "      <th>X = Cell Phone</th>\n",
       "      <td>0.033113</td>\n",
       "      <td>0.370861</td>\n",
       "      <td>0.403974</td>\n",
       "    </tr>\n",
       "    <tr>\n",
       "      <th>X = Not Cell Phone</th>\n",
       "      <td>0.059603</td>\n",
       "      <td>0.536424</td>\n",
       "      <td>0.596026</td>\n",
       "    </tr>\n",
       "    <tr>\n",
       "      <th>Column Total</th>\n",
       "      <td>0.092715</td>\n",
       "      <td>0.907285</td>\n",
       "      <td>1.000000</td>\n",
       "    </tr>\n",
       "  </tbody>\n",
       "</table>\n",
       "</div>"
      ],
      "text/plain": [
       "                    Y = Speeding  Y = Not Speeding  Row Total\n",
       "X = Cell Phone          0.033113          0.370861   0.403974\n",
       "X = Not Cell Phone      0.059603          0.536424   0.596026\n",
       "Column Total            0.092715          0.907285   1.000000"
      ]
     },
     "execution_count": 6,
     "metadata": {},
     "output_type": "execute_result"
    }
   ],
   "source": [
    "# display the results\n",
    "contingencyTable"
   ]
  },
  {
   "cell_type": "code",
   "execution_count": 7,
   "id": "b199c032",
   "metadata": {},
   "outputs": [
    {
     "name": "stdout",
     "output_type": "stream",
     "text": [
      "Mutual Information is:  0.0006814490043069573\n"
     ]
    }
   ],
   "source": [
    "# calculate the Mutual Information score in steps \n",
    "I_1 = 0.033113 * np.log2(0.033113 / (0.403974 * 0.092715)) \n",
    "I_2 = 0.370861 * np.log2(0.370861 / (0.403974 * 0.907285)) \n",
    "I_3 = 0.059603 * np.log2(0.059603 / (0.596026 * 0.092715)) \n",
    "I_4 = 0.536424 * np.log2(0.536424 / (0.596026 * 0.907285)) \n",
    "\n",
    "MI = I_1 + I_2 + I_3 + I_4\n",
    "\n",
    "print('Mutual Information is: ', MI)"
   ]
  },
  {
   "cell_type": "markdown",
   "id": "b5812ef6",
   "metadata": {},
   "source": [
    "Mutual information quantifies the amount of information shared between two variables. In this case, it measures the dependency between cell phone usage and speeding violations. A higher mutual information value indicates a stronger relationship or dependence between the variables, while a lower value indicates less dependence."
   ]
  },
  {
   "cell_type": "code",
   "execution_count": 8,
   "id": "f8da4c62",
   "metadata": {},
   "outputs": [],
   "source": [
    "from sklearn.feature_selection import mutual_info_classif, mutual_info_regression, SelectKBest\n",
    "from sklearn import datasets\n",
    "import matplotlib.pyplot as plt"
   ]
  },
  {
   "cell_type": "code",
   "execution_count": 9,
   "id": "89bb7857",
   "metadata": {},
   "outputs": [],
   "source": [
    "# make classification data with binary target values\n",
    "data = datasets.make_classification(\n",
    "    n_features = 4, \n",
    "    n_samples = 20, \n",
    "    random_state = 101)"
   ]
  },
  {
   "cell_type": "code",
   "execution_count": 10,
   "id": "b62bd839",
   "metadata": {},
   "outputs": [
    {
     "data": {
      "text/html": [
       "<div>\n",
       "<style scoped>\n",
       "    .dataframe tbody tr th:only-of-type {\n",
       "        vertical-align: middle;\n",
       "    }\n",
       "\n",
       "    .dataframe tbody tr th {\n",
       "        vertical-align: top;\n",
       "    }\n",
       "\n",
       "    .dataframe thead th {\n",
       "        text-align: right;\n",
       "    }\n",
       "</style>\n",
       "<table border=\"1\" class=\"dataframe\">\n",
       "  <thead>\n",
       "    <tr style=\"text-align: right;\">\n",
       "      <th></th>\n",
       "      <th>0</th>\n",
       "      <th>1</th>\n",
       "      <th>2</th>\n",
       "      <th>3</th>\n",
       "      <th>Y</th>\n",
       "    </tr>\n",
       "  </thead>\n",
       "  <tbody>\n",
       "    <tr>\n",
       "      <th>0</th>\n",
       "      <td>1.132571</td>\n",
       "      <td>-0.321234</td>\n",
       "      <td>0.371835</td>\n",
       "      <td>1.351682</td>\n",
       "      <td>1</td>\n",
       "    </tr>\n",
       "    <tr>\n",
       "      <th>1</th>\n",
       "      <td>2.327583</td>\n",
       "      <td>-1.854404</td>\n",
       "      <td>-0.149217</td>\n",
       "      <td>1.061118</td>\n",
       "      <td>1</td>\n",
       "    </tr>\n",
       "    <tr>\n",
       "      <th>2</th>\n",
       "      <td>-2.760772</td>\n",
       "      <td>2.486972</td>\n",
       "      <td>0.396833</td>\n",
       "      <td>-0.845391</td>\n",
       "      <td>0</td>\n",
       "    </tr>\n",
       "    <tr>\n",
       "      <th>3</th>\n",
       "      <td>-1.536856</td>\n",
       "      <td>0.155148</td>\n",
       "      <td>-0.719296</td>\n",
       "      <td>-2.237780</td>\n",
       "      <td>0</td>\n",
       "    </tr>\n",
       "    <tr>\n",
       "      <th>4</th>\n",
       "      <td>-1.925566</td>\n",
       "      <td>1.366443</td>\n",
       "      <td>-0.004797</td>\n",
       "      <td>-1.118881</td>\n",
       "      <td>0</td>\n",
       "    </tr>\n",
       "  </tbody>\n",
       "</table>\n",
       "</div>"
      ],
      "text/plain": [
       "          0         1         2         3  Y\n",
       "0  1.132571 -0.321234  0.371835  1.351682  1\n",
       "1  2.327583 -1.854404 -0.149217  1.061118  1\n",
       "2 -2.760772  2.486972  0.396833 -0.845391  0\n",
       "3 -1.536856  0.155148 -0.719296 -2.237780  0\n",
       "4 -1.925566  1.366443 -0.004797 -1.118881  0"
      ]
     },
     "execution_count": 10,
     "metadata": {},
     "output_type": "execute_result"
    }
   ],
   "source": [
    "# make a dataframe to improve readability\n",
    "df = pd.DataFrame(data[0])\n",
    "\n",
    "# add the targets\n",
    "df['Y'] = data[1]\n",
    "\n",
    "# inspect the results\n",
    "df.head()"
   ]
  },
  {
   "cell_type": "code",
   "execution_count": 11,
   "id": "733e9453",
   "metadata": {},
   "outputs": [
    {
     "data": {
      "text/plain": [
       "Text(0, 0.5, 'Mutual Information')"
      ]
     },
     "execution_count": 11,
     "metadata": {},
     "output_type": "execute_result"
    },
    {
     "data": {
      "image/png": "[encoded data removed]",
      "text/plain": [
       "<Figure size 1000x700 with 1 Axes>"
      ]
     },
     "metadata": {},
     "output_type": "display_data"
    }
   ],
   "source": [
    "# select explanatory variables\n",
    "X = df.iloc[ : , :-1 ]\n",
    "\n",
    "# .values will give the values in a numpy array (shape: (n,1))\n",
    "# .ravel will convert that array shape to (n, ) (i.e. flatten it)\n",
    "# make the target values\n",
    "Y = df.iloc[ : , -1: ].values.ravel()\n",
    "\n",
    "# pass through the mutual infor classify function\n",
    "mi = mutual_info_classif(X,Y)\n",
    "\n",
    "# generate a series\n",
    "mi = pd.Series(mi)\n",
    "\n",
    "# give the values names from the columns, except for the target variable\n",
    "mi.index = df.columns[: -1]\n",
    "\n",
    "# plot\n",
    "mi.sort_values(ascending = False).plot.bar(figsize = (10,7))\n",
    "plt.ylabel(\"Mutual Information\")"
   ]
  },
  {
   "cell_type": "code",
   "execution_count": 12,
   "id": "c19739c9",
   "metadata": {},
   "outputs": [
    {
     "data": {
      "text/plain": [
       "array(['x0', 'x3'], dtype=object)"
      ]
     },
     "execution_count": 12,
     "metadata": {},
     "output_type": "execute_result"
    }
   ],
   "source": [
    "# demonstrate in a pipeline\n",
    "from sklearn.pipeline import Pipeline\n",
    "\n",
    "# create pipeline using K best selects where k = 2\n",
    "pipe = Pipeline(\n",
    "    [\n",
    "        ('mutual_info', SelectKBest(mutual_info_classif, k = 2))\n",
    "    ])\n",
    "\n",
    "# fit the data to the pipeline\n",
    "best_ = pipe.fit(X,Y)\n",
    "\n",
    "# show the k-best features\n",
    "best_.get_feature_names_out()"
   ]
  }
 ],
 "metadata": {
  "kernelspec": {
   "display_name": "Python 3 (ipykernel)",
   "language": "python",
   "name": "python3"
  },
  "language_info": {
   "codemirror_mode": {
    "name": "ipython",
    "version": 3
   },
   "file_extension": ".py",
   "mimetype": "text/x-python",
   "name": "python",
   "nbconvert_exporter": "python",
   "pygments_lexer": "ipython3",
   "version": "3.9.13"
  }
 },
 "nbformat": 4,
 "nbformat_minor": 5
}
