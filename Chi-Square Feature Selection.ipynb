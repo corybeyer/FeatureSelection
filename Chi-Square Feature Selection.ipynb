{
 "cells": [
  {
   "cell_type": "markdown",
   "id": "e3617785",
   "metadata": {},
   "source": [
    "Chi-square tests of independence assess the relationship between two categorical variables by examining their dependence or independence. These tests determine whether there exists a connection between the values of the two qualitative variables.\n",
    "\n",
    "When the test reveals no association between the variables, it implies that the values of one variable do not provide any information about the values of the other variable. Conversely, if the test demonstrates a relationship between the variables, it indicates that knowing the value of one variable can offer insights into the value of the other variable.\n",
    "\n",
    "$H_0$: the variables are independent, there is no relationship between the two categorical variables. Knowing the value of one variable does not help to predict the value of the other variable.\n",
    " \n",
    "$H_a$: the variables are dependent, there is a relationship between the two categorical variables. Knowing the value of one variable helps to predict the value of the other variable"
   ]
  },
  {
   "cell_type": "code",
   "execution_count": 1,
   "id": "86b7da50",
   "metadata": {},
   "outputs": [],
   "source": [
    "from sklearn import datasets\n",
    "import pandas as pd\n",
    "import numpy as np\n",
    "import seaborn as sns\n",
    "import matplotlib.pyplot as plt\n",
    "\n",
    "from scipy.stats import chi2_contingency\n",
    "from sklearn.model_selection import train_test_split"
   ]
  },
  {
   "cell_type": "code",
   "execution_count": 2,
   "id": "d5d935e4",
   "metadata": {},
   "outputs": [],
   "source": [
    "data = datasets.fetch_openml(\"absenteeism-at-work\", version=1, as_frame=True, return_X_y=False)\n",
    "data = data[\"frame\"]"
   ]
  },
  {
   "cell_type": "code",
   "execution_count": 3,
   "id": "3ac7d245",
   "metadata": {},
   "outputs": [],
   "source": [
    "# remove nulls\n",
    "data = data.dropna()"
   ]
  },
  {
   "cell_type": "code",
   "execution_count": 4,
   "id": "c55287ad",
   "metadata": {},
   "outputs": [],
   "source": [
    "# Reason for absence (ICD). Absences attested by the International Code of Diseases (ICD) stratified into 21 categories\n",
    "data['Reason_for_absence'] = data['Reason_for_absence'].astype('category')"
   ]
  },
  {
   "cell_type": "code",
   "execution_count": 5,
   "id": "07642eff",
   "metadata": {},
   "outputs": [],
   "source": [
    "# day of the week is encoded to weekdays\n",
    "data['Day_of_the_week'] = data['Day_of_the_week'].astype('category')\n",
    "data['Day_of_the_week'] = data['Day_of_the_week'].cat.rename_categories(['Thursday','Monday','Tuesday','Wendesday','Friday'])"
   ]
  },
  {
   "cell_type": "code",
   "execution_count": 6,
   "id": "33a5c060",
   "metadata": {},
   "outputs": [],
   "source": [
    "# seasons are encoded with names\n",
    "data['Seasons'] = data['Seasons'].astype('category')\n",
    "data['Seasons'] = data['Seasons'].cat.rename_categories(['Spring','Summer','Autumn','Winter'])"
   ]
  },
  {
   "cell_type": "code",
   "execution_count": 7,
   "id": "f0444394",
   "metadata": {},
   "outputs": [],
   "source": [
    "# binary data for employee disciplinary problems \n",
    "data['Disciplinary_failure'] = data['Disciplinary_failure'].astype('category')\n",
    "data['Disciplinary_failure'] = data['Disciplinary_failure'].cat.rename_categories(['Yes','No'])"
   ]
  },
  {
   "cell_type": "code",
   "execution_count": 8,
   "id": "2ac43883",
   "metadata": {},
   "outputs": [],
   "source": [
    "# encoded education level\n",
    "data['Education'] = data['Education'].astype('category')\n",
    "data['Education'] = data['Education'].cat.rename_categories(['High School','Graduate','PostGrad','Master and Dr'])"
   ]
  },
  {
   "cell_type": "code",
   "execution_count": 9,
   "id": "87c3af39",
   "metadata": {},
   "outputs": [],
   "source": [
    "# social drinkers are binary encoded\n",
    "data['Social_drinker'] = data['Social_drinker'].astype('category')\n",
    "data['Social_drinker'] = data['Social_drinker'].cat.rename_categories(['Yes','No'])"
   ]
  },
  {
   "cell_type": "code",
   "execution_count": 10,
   "id": "2433b32d",
   "metadata": {},
   "outputs": [],
   "source": [
    "# social smokers are binary encoded\n",
    "data['Social_smoker'] = data['Social_smoker'].astype('category')\n",
    "data['Social_smoker'] = data['Social_smoker'].cat.rename_categories(['Yes','No'])"
   ]
  },
  {
   "cell_type": "code",
   "execution_count": 11,
   "id": "070706f4",
   "metadata": {},
   "outputs": [
    {
     "data": {
      "text/html": [
       "<div>\n",
       "<style scoped>\n",
       "    .dataframe tbody tr th:only-of-type {\n",
       "        vertical-align: middle;\n",
       "    }\n",
       "\n",
       "    .dataframe tbody tr th {\n",
       "        vertical-align: top;\n",
       "    }\n",
       "\n",
       "    .dataframe thead th {\n",
       "        text-align: right;\n",
       "    }\n",
       "</style>\n",
       "<table border=\"1\" class=\"dataframe\">\n",
       "  <thead>\n",
       "    <tr style=\"text-align: right;\">\n",
       "      <th></th>\n",
       "      <th>ID</th>\n",
       "      <th>Reason_for_absence</th>\n",
       "      <th>Month_of_absence</th>\n",
       "      <th>Day_of_the_week</th>\n",
       "      <th>Seasons</th>\n",
       "      <th>Transportation_expense</th>\n",
       "      <th>Distance_from_Residence_to_Work</th>\n",
       "      <th>Service_time</th>\n",
       "      <th>Age</th>\n",
       "      <th>Work_load_Average/day_</th>\n",
       "      <th>...</th>\n",
       "      <th>Disciplinary_failure</th>\n",
       "      <th>Education</th>\n",
       "      <th>Son</th>\n",
       "      <th>Social_drinker</th>\n",
       "      <th>Social_smoker</th>\n",
       "      <th>Pet</th>\n",
       "      <th>Weight</th>\n",
       "      <th>Height</th>\n",
       "      <th>Body_mass_index</th>\n",
       "      <th>Absenteeism_time_in_hours</th>\n",
       "    </tr>\n",
       "  </thead>\n",
       "  <tbody>\n",
       "    <tr>\n",
       "      <th>0</th>\n",
       "      <td>11.0</td>\n",
       "      <td>26.0</td>\n",
       "      <td>7.0</td>\n",
       "      <td>Tuesday</td>\n",
       "      <td>Summer</td>\n",
       "      <td>289.0</td>\n",
       "      <td>36.0</td>\n",
       "      <td>13.0</td>\n",
       "      <td>33.0</td>\n",
       "      <td>239554.0</td>\n",
       "      <td>...</td>\n",
       "      <td>No</td>\n",
       "      <td>High School</td>\n",
       "      <td>2.0</td>\n",
       "      <td>Yes</td>\n",
       "      <td>No</td>\n",
       "      <td>1.0</td>\n",
       "      <td>90.0</td>\n",
       "      <td>172.0</td>\n",
       "      <td>30.0</td>\n",
       "      <td>4.0</td>\n",
       "    </tr>\n",
       "    <tr>\n",
       "      <th>1</th>\n",
       "      <td>36.0</td>\n",
       "      <td>0.0</td>\n",
       "      <td>7.0</td>\n",
       "      <td>Tuesday</td>\n",
       "      <td>Summer</td>\n",
       "      <td>118.0</td>\n",
       "      <td>13.0</td>\n",
       "      <td>18.0</td>\n",
       "      <td>50.0</td>\n",
       "      <td>239554.0</td>\n",
       "      <td>...</td>\n",
       "      <td>Yes</td>\n",
       "      <td>High School</td>\n",
       "      <td>1.0</td>\n",
       "      <td>Yes</td>\n",
       "      <td>No</td>\n",
       "      <td>0.0</td>\n",
       "      <td>98.0</td>\n",
       "      <td>178.0</td>\n",
       "      <td>31.0</td>\n",
       "      <td>0.0</td>\n",
       "    </tr>\n",
       "    <tr>\n",
       "      <th>2</th>\n",
       "      <td>3.0</td>\n",
       "      <td>23.0</td>\n",
       "      <td>7.0</td>\n",
       "      <td>Wendesday</td>\n",
       "      <td>Summer</td>\n",
       "      <td>179.0</td>\n",
       "      <td>51.0</td>\n",
       "      <td>18.0</td>\n",
       "      <td>38.0</td>\n",
       "      <td>239554.0</td>\n",
       "      <td>...</td>\n",
       "      <td>No</td>\n",
       "      <td>High School</td>\n",
       "      <td>0.0</td>\n",
       "      <td>Yes</td>\n",
       "      <td>No</td>\n",
       "      <td>0.0</td>\n",
       "      <td>89.0</td>\n",
       "      <td>170.0</td>\n",
       "      <td>31.0</td>\n",
       "      <td>2.0</td>\n",
       "    </tr>\n",
       "    <tr>\n",
       "      <th>3</th>\n",
       "      <td>7.0</td>\n",
       "      <td>7.0</td>\n",
       "      <td>7.0</td>\n",
       "      <td>Thursday</td>\n",
       "      <td>Summer</td>\n",
       "      <td>279.0</td>\n",
       "      <td>5.0</td>\n",
       "      <td>14.0</td>\n",
       "      <td>39.0</td>\n",
       "      <td>239554.0</td>\n",
       "      <td>...</td>\n",
       "      <td>No</td>\n",
       "      <td>High School</td>\n",
       "      <td>2.0</td>\n",
       "      <td>Yes</td>\n",
       "      <td>Yes</td>\n",
       "      <td>0.0</td>\n",
       "      <td>68.0</td>\n",
       "      <td>168.0</td>\n",
       "      <td>24.0</td>\n",
       "      <td>4.0</td>\n",
       "    </tr>\n",
       "    <tr>\n",
       "      <th>4</th>\n",
       "      <td>11.0</td>\n",
       "      <td>23.0</td>\n",
       "      <td>7.0</td>\n",
       "      <td>Thursday</td>\n",
       "      <td>Summer</td>\n",
       "      <td>289.0</td>\n",
       "      <td>36.0</td>\n",
       "      <td>13.0</td>\n",
       "      <td>33.0</td>\n",
       "      <td>239554.0</td>\n",
       "      <td>...</td>\n",
       "      <td>No</td>\n",
       "      <td>High School</td>\n",
       "      <td>2.0</td>\n",
       "      <td>Yes</td>\n",
       "      <td>No</td>\n",
       "      <td>1.0</td>\n",
       "      <td>90.0</td>\n",
       "      <td>172.0</td>\n",
       "      <td>30.0</td>\n",
       "      <td>2.0</td>\n",
       "    </tr>\n",
       "  </tbody>\n",
       "</table>\n",
       "<p>5 rows × 21 columns</p>\n",
       "</div>"
      ],
      "text/plain": [
       "     ID Reason_for_absence  Month_of_absence Day_of_the_week Seasons  \\\n",
       "0  11.0               26.0               7.0         Tuesday  Summer   \n",
       "1  36.0                0.0               7.0         Tuesday  Summer   \n",
       "2   3.0               23.0               7.0       Wendesday  Summer   \n",
       "3   7.0                7.0               7.0        Thursday  Summer   \n",
       "4  11.0               23.0               7.0        Thursday  Summer   \n",
       "\n",
       "   Transportation_expense  Distance_from_Residence_to_Work  Service_time  \\\n",
       "0                   289.0                             36.0          13.0   \n",
       "1                   118.0                             13.0          18.0   \n",
       "2                   179.0                             51.0          18.0   \n",
       "3                   279.0                              5.0          14.0   \n",
       "4                   289.0                             36.0          13.0   \n",
       "\n",
       "    Age  Work_load_Average/day_  ...  Disciplinary_failure    Education  Son  \\\n",
       "0  33.0                239554.0  ...                    No  High School  2.0   \n",
       "1  50.0                239554.0  ...                   Yes  High School  1.0   \n",
       "2  38.0                239554.0  ...                    No  High School  0.0   \n",
       "3  39.0                239554.0  ...                    No  High School  2.0   \n",
       "4  33.0                239554.0  ...                    No  High School  2.0   \n",
       "\n",
       "   Social_drinker Social_smoker  Pet  Weight  Height  Body_mass_index  \\\n",
       "0             Yes            No  1.0    90.0   172.0             30.0   \n",
       "1             Yes            No  0.0    98.0   178.0             31.0   \n",
       "2             Yes            No  0.0    89.0   170.0             31.0   \n",
       "3             Yes           Yes  0.0    68.0   168.0             24.0   \n",
       "4             Yes            No  1.0    90.0   172.0             30.0   \n",
       "\n",
       "   Absenteeism_time_in_hours  \n",
       "0                        4.0  \n",
       "1                        0.0  \n",
       "2                        2.0  \n",
       "3                        4.0  \n",
       "4                        2.0  \n",
       "\n",
       "[5 rows x 21 columns]"
      ]
     },
     "execution_count": 11,
     "metadata": {},
     "output_type": "execute_result"
    }
   ],
   "source": [
    "data.head()"
   ]
  },
  {
   "cell_type": "code",
   "execution_count": 12,
   "id": "6eef6bec",
   "metadata": {},
   "outputs": [],
   "source": [
    "# Calculate the threshold for the top 20%\n",
    "threshold = data['Absenteeism_time_in_hours'].quantile(0.80)\n",
    "\n",
    "# Assign labels based on the threshold\n",
    "data['Target'] = data['Absenteeism_time_in_hours'].apply(lambda x: 1 if x >= threshold else 0)\n",
    "\n",
    "data = data.drop(columns = ['Absenteeism_time_in_hours','ID'], axis = 1)"
   ]
  },
  {
   "cell_type": "code",
   "execution_count": 13,
   "id": "3b3d79b5",
   "metadata": {},
   "outputs": [],
   "source": [
    "categorical_columns = data.select_dtypes(include=['category'])\n",
    "categorical_columns['Target'] = data['Target']"
   ]
  },
  {
   "cell_type": "code",
   "execution_count": 14,
   "id": "117c687e",
   "metadata": {},
   "outputs": [],
   "source": [
    "# separate train and test sets\n",
    "X_train, X_test, y_train, y_test = train_test_split(\n",
    "    categorical_columns.drop(columns = ['Target'], axis = 1),\n",
    "    categorical_columns['Target'],\n",
    "    test_size = 0.3,\n",
    "    random_state = 101\n",
    ")"
   ]
  },
  {
   "cell_type": "code",
   "execution_count": 15,
   "id": "663f9b0c",
   "metadata": {},
   "outputs": [],
   "source": [
    "chi_square_list = []\n",
    "\n",
    "for feature in X_train.columns:\n",
    "        \n",
    "    # make contingency table\n",
    "    contingency_table = pd.crosstab(y_train, X_train[feature])\n",
    "        \n",
    "    # collect p-value for chi-square test\n",
    "    p_value = chi2_contingency(contingency_table)[1]\n",
    "        \n",
    "    # append chi-square array with p-value\n",
    "    chi_square_list.append(p_value)"
   ]
  },
  {
   "cell_type": "code",
   "execution_count": 16,
   "id": "1f288079",
   "metadata": {},
   "outputs": [
    {
     "data": {
      "text/plain": [
       "Text(0.5, 1.0, 'Feature importance based on chi-square test')"
      ]
     },
     "execution_count": 16,
     "metadata": {},
     "output_type": "execute_result"
    },
    {
     "data": {
      "image/png": "[encoded data removed]",
      "text/plain": [
       "<Figure size 640x480 with 1 Axes>"
      ]
     },
     "metadata": {},
     "output_type": "display_data"
    }
   ],
   "source": [
    "pd.Series(chi_square_list, index = X_train.columns).sort_values(ascending = True).plot(kind = 'bar')\n",
    "plt.ylabel('p-value')\n",
    "plt.title('Feature importance based on chi-square test')"
   ]
  },
  {
   "cell_type": "markdown",
   "id": "53f87704",
   "metadata": {},
   "source": [
    "In general, the p-value represents the probability of observing the obtained test statistic (or a more extreme value) under the assumption that the null hypothesis is true. The null hypothesis in the chi-square test for independence is that there is no relationship between the variables.\n",
    "\n",
    "Here's a common interpretation of the p-value based on the significance level:\n",
    "\n",
    "If the p-value is less than the chosen significance level (alpha, typically 0.05 or 0.01), it suggests that there is strong evidence to reject the null hypothesis. In this case, you would conclude that there is a significant relationship between the variables being tested, and dimensionality reduction based on the chi-square test would be warranted.\n",
    "\n",
    "If the p-value is greater than the chosen significance level, it suggests that there is not enough evidence to reject the null hypothesis. In this case, you would fail to find a significant relationship between the variables, and it would not be advisable to use the chi-square test for dimensionality reduction."
   ]
  },
  {
   "cell_type": "code",
   "execution_count": 17,
   "id": "887aafb8",
   "metadata": {},
   "outputs": [
    {
     "name": "stdout",
     "output_type": "stream",
     "text": [
      "Index(['Reason_for_absence', 'Disciplinary_failure', 'Social_drinker',\n",
      "       'Education'],\n",
      "      dtype='object')\n"
     ]
    }
   ],
   "source": [
    "# select \n",
    "selected = pd.Series(chi_square_list, index=X_train.columns).sort_values(\n",
    "    ascending=True)\n",
    "\n",
    "# Filter the Series based on a condition\n",
    "selected = selected[selected <= 0.05].index\n",
    "\n",
    "print(selected)"
   ]
  },
  {
   "cell_type": "code",
   "execution_count": null,
   "id": "5cf08360",
   "metadata": {},
   "outputs": [],
   "source": []
  }
 ],
 "metadata": {
  "kernelspec": {
   "display_name": "Python 3 (ipykernel)",
   "language": "python",
   "name": "python3"
  },
  "language_info": {
   "codemirror_mode": {
    "name": "ipython",
    "version": 3
   },
   "file_extension": ".py",
   "mimetype": "text/x-python",
   "name": "python",
   "nbconvert_exporter": "python",
   "pygments_lexer": "ipython3",
   "version": "3.9.13"
  }
 },
 "nbformat": 4,
 "nbformat_minor": 5
}
