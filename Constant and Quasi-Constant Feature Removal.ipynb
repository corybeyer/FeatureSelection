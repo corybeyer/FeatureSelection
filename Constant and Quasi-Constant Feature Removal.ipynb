{
 "cells": [
  {
   "cell_type": "markdown",
   "id": "a0b72d1c",
   "metadata": {},
   "source": [
    "## Constant and Quasi-Constant Feature Removal"
   ]
  },
  {
   "cell_type": "markdown",
   "id": "6c59c15c",
   "metadata": {},
   "source": [
    "Features that are constant or quasi-constant do not provide any meaningful information to the model because they have the same value for all instances. By eliminating these features, you can enhance the efficiency of your machine learning algorithms by reducing computational complexity and processing time.\n",
    "\n",
    "Duplicated features lack discriminatory power and do not affect the target variable. Their inclusion in the model can lead to overfitting, where the model becomes excessively specialized to the training data and performs poorly on unseen data.\n",
    "\n",
    "Constant and quasi-constant features lack variation or discernible patterns, rendering them irrelevant for understanding the relationships between features and the target variable. Removing such features allows you to focus on more informative attributes, improving the interpretability of the model.\n",
    "\n",
    "The presence of constant features in the dataset can introduce noise and have a detrimental impact on the performance of machine learning algorithms. By eliminating these features, you can enhance model performance by reducing noise and emphasizing meaningful features.\n",
    "\n",
    "<b> We can use sklearn variance threshold to remove similar columns becuase a constant variable has a variance of 0 and a quasi-constant variable has a variance close to 0.</b>"
   ]
  },
  {
   "cell_type": "code",
   "execution_count": 1,
   "id": "ad9695f8",
   "metadata": {},
   "outputs": [],
   "source": [
    "from sklearn.datasets import make_regression\n",
    "import pandas as pd\n",
    "import numpy as np\n",
    "from sklearn.feature_selection import VarianceThreshold\n",
    "\n",
    "import warnings\n",
    "warnings.filterwarnings(\"ignore\")"
   ]
  },
  {
   "cell_type": "code",
   "execution_count": 2,
   "id": "a240f705",
   "metadata": {},
   "outputs": [],
   "source": [
    "# make classification data with binary target values\n",
    "data = make_regression(\n",
    "    n_features = 100, \n",
    "    n_samples = 250, \n",
    "    random_state = 101)"
   ]
  },
  {
   "cell_type": "code",
   "execution_count": 3,
   "id": "877509bf",
   "metadata": {},
   "outputs": [
    {
     "data": {
      "text/html": [
       "<div>\n",
       "<style scoped>\n",
       "    .dataframe tbody tr th:only-of-type {\n",
       "        vertical-align: middle;\n",
       "    }\n",
       "\n",
       "    .dataframe tbody tr th {\n",
       "        vertical-align: top;\n",
       "    }\n",
       "\n",
       "    .dataframe thead th {\n",
       "        text-align: right;\n",
       "    }\n",
       "</style>\n",
       "<table border=\"1\" class=\"dataframe\">\n",
       "  <thead>\n",
       "    <tr style=\"text-align: right;\">\n",
       "      <th></th>\n",
       "      <th>0</th>\n",
       "      <th>1</th>\n",
       "      <th>2</th>\n",
       "      <th>3</th>\n",
       "      <th>4</th>\n",
       "      <th>5</th>\n",
       "      <th>6</th>\n",
       "      <th>7</th>\n",
       "      <th>8</th>\n",
       "      <th>9</th>\n",
       "      <th>...</th>\n",
       "      <th>91</th>\n",
       "      <th>92</th>\n",
       "      <th>93</th>\n",
       "      <th>94</th>\n",
       "      <th>95</th>\n",
       "      <th>96</th>\n",
       "      <th>97</th>\n",
       "      <th>98</th>\n",
       "      <th>99</th>\n",
       "      <th>Y</th>\n",
       "    </tr>\n",
       "  </thead>\n",
       "  <tbody>\n",
       "    <tr>\n",
       "      <th>0</th>\n",
       "      <td>1.237051</td>\n",
       "      <td>0.161684</td>\n",
       "      <td>-1.152386</td>\n",
       "      <td>-0.409753</td>\n",
       "      <td>-1.077468</td>\n",
       "      <td>0.747431</td>\n",
       "      <td>-1.412446</td>\n",
       "      <td>-1.289670</td>\n",
       "      <td>-0.760857</td>\n",
       "      <td>-1.001096</td>\n",
       "      <td>...</td>\n",
       "      <td>5</td>\n",
       "      <td>0.770275</td>\n",
       "      <td>1.484575</td>\n",
       "      <td>3.142104</td>\n",
       "      <td>-0.917480</td>\n",
       "      <td>-0.103852</td>\n",
       "      <td>-0.047363</td>\n",
       "      <td>0.083218</td>\n",
       "      <td>0.471955</td>\n",
       "      <td>17.290903</td>\n",
       "    </tr>\n",
       "    <tr>\n",
       "      <th>1</th>\n",
       "      <td>0.274839</td>\n",
       "      <td>-1.832766</td>\n",
       "      <td>-0.368043</td>\n",
       "      <td>1.161214</td>\n",
       "      <td>-0.998865</td>\n",
       "      <td>1.202511</td>\n",
       "      <td>-1.202962</td>\n",
       "      <td>-0.644308</td>\n",
       "      <td>-1.788403</td>\n",
       "      <td>0.979846</td>\n",
       "      <td>...</td>\n",
       "      <td>5</td>\n",
       "      <td>-0.269674</td>\n",
       "      <td>1.086608</td>\n",
       "      <td>0.222096</td>\n",
       "      <td>0.076328</td>\n",
       "      <td>1.177665</td>\n",
       "      <td>-0.796190</td>\n",
       "      <td>0.318696</td>\n",
       "      <td>0.285054</td>\n",
       "      <td>142.698122</td>\n",
       "    </tr>\n",
       "    <tr>\n",
       "      <th>2</th>\n",
       "      <td>0.256114</td>\n",
       "      <td>-1.550236</td>\n",
       "      <td>0.189128</td>\n",
       "      <td>0.112748</td>\n",
       "      <td>0.033480</td>\n",
       "      <td>0.421889</td>\n",
       "      <td>0.560051</td>\n",
       "      <td>1.280983</td>\n",
       "      <td>-0.111624</td>\n",
       "      <td>0.600160</td>\n",
       "      <td>...</td>\n",
       "      <td>5</td>\n",
       "      <td>-0.985264</td>\n",
       "      <td>1.206036</td>\n",
       "      <td>0.531459</td>\n",
       "      <td>-0.877250</td>\n",
       "      <td>-0.666815</td>\n",
       "      <td>1.756246</td>\n",
       "      <td>-1.707947</td>\n",
       "      <td>1.073355</td>\n",
       "      <td>-27.943177</td>\n",
       "    </tr>\n",
       "    <tr>\n",
       "      <th>3</th>\n",
       "      <td>0.107535</td>\n",
       "      <td>0.448421</td>\n",
       "      <td>0.179847</td>\n",
       "      <td>1.356226</td>\n",
       "      <td>0.095896</td>\n",
       "      <td>-0.089147</td>\n",
       "      <td>-0.406464</td>\n",
       "      <td>-0.728170</td>\n",
       "      <td>0.181651</td>\n",
       "      <td>-0.069708</td>\n",
       "      <td>...</td>\n",
       "      <td>5</td>\n",
       "      <td>-0.282638</td>\n",
       "      <td>0.185851</td>\n",
       "      <td>-0.999543</td>\n",
       "      <td>0.030705</td>\n",
       "      <td>2.261594</td>\n",
       "      <td>0.595639</td>\n",
       "      <td>-0.615174</td>\n",
       "      <td>0.499438</td>\n",
       "      <td>-272.047303</td>\n",
       "    </tr>\n",
       "    <tr>\n",
       "      <th>4</th>\n",
       "      <td>0.217749</td>\n",
       "      <td>-0.105454</td>\n",
       "      <td>-1.006047</td>\n",
       "      <td>-0.160085</td>\n",
       "      <td>1.434404</td>\n",
       "      <td>-0.989782</td>\n",
       "      <td>-0.874170</td>\n",
       "      <td>-0.161555</td>\n",
       "      <td>0.613464</td>\n",
       "      <td>0.611526</td>\n",
       "      <td>...</td>\n",
       "      <td>5</td>\n",
       "      <td>0.546369</td>\n",
       "      <td>-0.990625</td>\n",
       "      <td>2.385875</td>\n",
       "      <td>-0.024611</td>\n",
       "      <td>0.105822</td>\n",
       "      <td>-1.031140</td>\n",
       "      <td>-1.620130</td>\n",
       "      <td>0.901704</td>\n",
       "      <td>101.952277</td>\n",
       "    </tr>\n",
       "  </tbody>\n",
       "</table>\n",
       "<p>5 rows × 101 columns</p>\n",
       "</div>"
      ],
      "text/plain": [
       "          0         1         2         3         4         5         6  \\\n",
       "0  1.237051  0.161684 -1.152386 -0.409753 -1.077468  0.747431 -1.412446   \n",
       "1  0.274839 -1.832766 -0.368043  1.161214 -0.998865  1.202511 -1.202962   \n",
       "2  0.256114 -1.550236  0.189128  0.112748  0.033480  0.421889  0.560051   \n",
       "3  0.107535  0.448421  0.179847  1.356226  0.095896 -0.089147 -0.406464   \n",
       "4  0.217749 -0.105454 -1.006047 -0.160085  1.434404 -0.989782 -0.874170   \n",
       "\n",
       "          7         8         9  ...  91        92        93        94  \\\n",
       "0 -1.289670 -0.760857 -1.001096  ...   5  0.770275  1.484575  3.142104   \n",
       "1 -0.644308 -1.788403  0.979846  ...   5 -0.269674  1.086608  0.222096   \n",
       "2  1.280983 -0.111624  0.600160  ...   5 -0.985264  1.206036  0.531459   \n",
       "3 -0.728170  0.181651 -0.069708  ...   5 -0.282638  0.185851 -0.999543   \n",
       "4 -0.161555  0.613464  0.611526  ...   5  0.546369 -0.990625  2.385875   \n",
       "\n",
       "         95        96        97        98        99           Y  \n",
       "0 -0.917480 -0.103852 -0.047363  0.083218  0.471955   17.290903  \n",
       "1  0.076328  1.177665 -0.796190  0.318696  0.285054  142.698122  \n",
       "2 -0.877250 -0.666815  1.756246 -1.707947  1.073355  -27.943177  \n",
       "3  0.030705  2.261594  0.595639 -0.615174  0.499438 -272.047303  \n",
       "4 -0.024611  0.105822 -1.031140 -1.620130  0.901704  101.952277  \n",
       "\n",
       "[5 rows x 101 columns]"
      ]
     },
     "execution_count": 3,
     "metadata": {},
     "output_type": "execute_result"
    }
   ],
   "source": [
    "# make a dataframe to improve readability\n",
    "df = pd.DataFrame(data[0])\n",
    "\n",
    "# add the targets\n",
    "df['Y'] = data[1]\n",
    "\n",
    "# set one column equal to a constant\n",
    "df[91] = 5\n",
    "\n",
    "# inspect the results\n",
    "df.head()"
   ]
  },
  {
   "cell_type": "code",
   "execution_count": 4,
   "id": "32aa1935",
   "metadata": {},
   "outputs": [
    {
     "data": {
      "text/plain": [
       "[91]"
      ]
     },
     "execution_count": 4,
     "metadata": {},
     "output_type": "execute_result"
    }
   ],
   "source": [
    "# use a pandas method to find constants\n",
    "\n",
    "# we can use list comprehension to get each column with variance equal to 0\n",
    "columns_with_constants = [ feat for feat in df.columns if df[feat].var() == 0]\n",
    "\n",
    "# show the constant columns\n",
    "columns_with_constants"
   ]
  },
  {
   "cell_type": "code",
   "execution_count": 5,
   "id": "b0233b8e",
   "metadata": {},
   "outputs": [
    {
     "data": {
      "text/plain": [
       "Index([91], dtype='object')"
      ]
     },
     "execution_count": 5,
     "metadata": {},
     "output_type": "execute_result"
    }
   ],
   "source": [
    "# use sklearn to find the constants\n",
    "\n",
    "# instantiate the class with a threhold equal to 0\n",
    "selector = VarianceThreshold(threshold = 0)\n",
    "\n",
    "# fit the method to the data\n",
    "selector.fit(df)\n",
    "\n",
    "# get the column with the constant by making an anti-selection\n",
    "constant = df.columns[~selector.get_support()]\n",
    "\n",
    "# show the column with the constant\n",
    "constant"
   ]
  },
  {
   "cell_type": "code",
   "execution_count": 6,
   "id": "826e3731",
   "metadata": {},
   "outputs": [
    {
     "data": {
      "text/plain": [
       "Index([91], dtype='object')"
      ]
     },
     "execution_count": 6,
     "metadata": {},
     "output_type": "execute_result"
    }
   ],
   "source": [
    "# quasi-constant features will have a variance near 0\n",
    "\n",
    "# instantiate the class with a threhold equal to 0\n",
    "selector = VarianceThreshold(threshold = 0.05)\n",
    "\n",
    "# fit the method to the data\n",
    "selector.fit(df)\n",
    "\n",
    "# get the column with the constant by making an anti-selection\n",
    "constant = df.columns[~selector.get_support()]\n",
    "\n",
    "# show the column with the constant\n",
    "constant"
   ]
  }
 ],
 "metadata": {
  "kernelspec": {
   "display_name": "Python 3 (ipykernel)",
   "language": "python",
   "name": "python3"
  },
  "language_info": {
   "codemirror_mode": {
    "name": "ipython",
    "version": 3
   },
   "file_extension": ".py",
   "mimetype": "text/x-python",
   "name": "python",
   "nbconvert_exporter": "python",
   "pygments_lexer": "ipython3",
   "version": "3.9.13"
  }
 },
 "nbformat": 4,
 "nbformat_minor": 5
}
